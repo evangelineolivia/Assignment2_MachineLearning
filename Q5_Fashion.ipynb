{
  "cells": [
    {
      "cell_type": "markdown",
      "id": "812b61d5",
      "metadata": {
        "id": "812b61d5"
      },
      "source": [
        "# Fashion MNIST\n",
        "\n",
        "In this question, we are to build a multi-class classification model using a convolutional neural\n",
        "network for the Fashion-MNIST dataset. Fashion-MNIST is a dataset of Zalando's article\n",
        "images, consisting of a training set of 60,000 examples and a test set of 10,000 examples. Each\n",
        "example is a 28x28 grayscale image associated with a label from 10 classes."
      ]
    },
    {
      "cell_type": "code",
      "execution_count": 126,
      "id": "7d0db303",
      "metadata": {
        "id": "7d0db303"
      },
      "outputs": [],
      "source": [
        "import numpy as np\n",
        "import pandas as pd\n",
        "import matplotlib.pyplot as plt\n",
        "import random\n",
        "\n",
        "import torch\n",
        "import torch.nn as nn\n",
        "from torch.autograd import Variable\n",
        "\n",
        "import torch.nn.functional as F\n",
        "\n",
        "import torchvision\n",
        "from torchvision import datasets, transforms\n",
        "import torchvision.transforms as transforms\n",
        "from torch.utils.data import Dataset, DataLoader, random_split\n",
        "from sklearn.metrics import confusion_matrix\n",
        "from sklearn.metrics import precision_score, recall_score, classification_report\n",
        "\n",
        "import torchmetrics\n",
        "\n",
        "import seaborn as sns"
      ]
    },
    {
      "cell_type": "code",
      "execution_count": 127,
      "id": "85d32d95",
      "metadata": {
        "id": "85d32d95"
      },
      "outputs": [],
      "source": [
        "def set_seed(seed=42):\n",
        "    torch.manual_seed(seed)\n",
        "    torch.cuda.manual_seed(seed)\n",
        "    torch.cuda.manual_seed_all(seed)\n",
        "    np.random.seed(seed)\n",
        "    random.seed(seed)\n",
        "    torch.backends.cudnn.deterministic = True\n",
        "    torch.backends.cudnn.benchmark = False\n",
        "\n",
        "set_seed()"
      ]
    },
    {
      "cell_type": "code",
      "execution_count": 128,
      "id": "cd6ac8c4",
      "metadata": {
        "colab": {
          "base_uri": "https://localhost:8080/"
        },
        "id": "cd6ac8c4",
        "outputId": "551e63e6-f0f5-4e38-fde6-b56963b7a962"
      },
      "outputs": [
        {
          "output_type": "stream",
          "name": "stdout",
          "text": [
            "Mean: 0.28570690751075745, Std: 0.35282522439956665\n"
          ]
        }
      ],
      "source": [
        "transform = transforms.Compose([transforms.ToTensor()])\n",
        "train_dataset = datasets.FashionMNIST(root='./data', train=True,\n",
        "download=True, transform=transform)\n",
        "test_dataset = datasets.FashionMNIST(root='./data', train=False,\n",
        "download=True, transform=transform)\n",
        "\n",
        "train_size = int(0.8 * len(train_dataset))\n",
        "val_size = len(train_dataset) - train_size\n",
        "\n",
        "generator = torch.Generator().manual_seed(42)\n",
        "train, val = random_split(train_dataset, [train_size, val_size],generator=generator)\n",
        "train_loader = DataLoader(train, batch_size=64, shuffle=True)\n",
        "val_loader = DataLoader(val, batch_size=64, shuffle=False)\n",
        "test_loader = DataLoader(test_dataset, batch_size=64, shuffle=False)\n",
        "\n",
        "\n",
        "# Calculate the mean and standard deviation of the training dataset\n",
        "all_pixels = torch.cat([data[0].view(-1) for data in train_loader], dim=0)\n",
        "mean = all_pixels.mean().item()\n",
        "std = all_pixels.std().item()\n",
        "\n",
        "print(f\"Mean: {mean}, Std: {std}\")\n",
        "\n",
        "# Normalize the dataset using the calculated mean and std\n",
        "transform = transforms.Compose([\n",
        "    transforms.ToTensor(),\n",
        "    transforms.Normalize((mean,), (std,))\n",
        "])"
      ]
    },
    {
      "cell_type": "markdown",
      "id": "570d6d3b",
      "metadata": {
        "id": "570d6d3b"
      },
      "source": [
        "Labels Each training and test example is assigned to one of the following labels as shown below:\n",
        "\n",
        "- 0 : T-shirt/top\n",
        "- 1 : Trouser\n",
        "- 2 : Pullover\n",
        "- 3 : Dress\n",
        "- 4 : Coat\n",
        "- 5 : Sandal\n",
        "- 6 : Shirt\n",
        "- 7 : Sneaker\n",
        "- 8 : Bag\n",
        "- 9 : Ankle boot"
      ]
    },
    {
      "cell_type": "code",
      "execution_count": 129,
      "id": "9fb219df",
      "metadata": {
        "colab": {
          "base_uri": "https://localhost:8080/",
          "height": 521
        },
        "id": "9fb219df",
        "outputId": "03ab38eb-dd50-4889-9eb0-c9b99cc30b8c"
      },
      "outputs": [
        {
          "output_type": "display_data",
          "data": {
            "text/plain": [
              "<Figure size 600x600 with 9 Axes>"
            ],
            "image/png": "[encoded data removed]"
          },
          "metadata": {}
        }
      ],
      "source": [
        "plt.figure(figsize=(6,6))\n",
        "for i in range(9):\n",
        "    image, label = train_dataset[i]\n",
        "    plt.subplot(3,3,i+1)\n",
        "    plt.xticks([])\n",
        "    plt.yticks([])\n",
        "    plt.grid(False)\n",
        "    plt.imshow(image.squeeze(), cmap=plt.cm.binary)\n",
        "    plt.title(\"Image label is: {}\".format(label))\n",
        "plt.show()"
      ]
    },
    {
      "cell_type": "markdown",
      "id": "83ce5245",
      "metadata": {
        "id": "83ce5245"
      },
      "source": [
        "### CNN Model"
      ]
    },
    {
      "cell_type": "code",
      "source": [
        "device = \"cuda\" if torch.cuda.is_available() else \"cpu\""
      ],
      "metadata": {
        "id": "XK6h9aC8fbSY"
      },
      "id": "XK6h9aC8fbSY",
      "execution_count": 130,
      "outputs": []
    },
    {
      "cell_type": "code",
      "execution_count": 131,
      "id": "5ed71636",
      "metadata": {
        "id": "5ed71636"
      },
      "outputs": [],
      "source": [
        "class CNNModel(nn.Module):\n",
        "    def __init__(self,in_channels=1, num_classes=10):\n",
        "        super(CNNModel, self).__init__()\n",
        "\n",
        "        # First convolutional block:\n",
        "        #  - Conv layer with 32 filters of size 3x3\n",
        "        #  - ReLU activation\n",
        "        #  - 2x2 Max pooling (downsamples spatial dims)\n",
        "        #  - Batch normalization to stabilize training\n",
        "        self.conv1 = nn.Sequential(\n",
        "            nn.Conv2d(in_channels, out_channels= 32, kernel_size=3, padding=1),\n",
        "            nn.ReLU(),\n",
        "            nn.MaxPool2d(kernel_size=2, stride=2),\n",
        "            nn.BatchNorm2d(32)\n",
        "        )\n",
        "\n",
        "        # Second convolutional block:\n",
        "        #  - Conv layer with 64 filters\n",
        "        #  - ReLU + Max pooling + BatchNorm again\n",
        "        self.conv2 = nn.Sequential(\n",
        "            nn.Conv2d(32, out_channels=64, kernel_size=3, padding=1),\n",
        "            nn.ReLU(),\n",
        "            nn.MaxPool2d(kernel_size=2, stride=2),\n",
        "            nn.BatchNorm2d(64)\n",
        "        )\n",
        "\n",
        "        # Fully connected classifier:\n",
        "        #  - Flatten the 64×7×7 output to a vector\n",
        "        #  - Dense layer with 128 units + ReLU\n",
        "        #  - Dropout for regularization\n",
        "        #  - Final linear layer outputs logits for classification\n",
        "        self.classifier = nn.Sequential(\n",
        "            nn.Flatten(),\n",
        "            nn.Linear(64 * 7 * 7, 128),\n",
        "            nn.ReLU(),\n",
        "            nn.Dropout(0.3),\n",
        "            nn.Linear(128, num_classes)\n",
        "        )\n",
        "\n",
        "    def forward(self, x):\n",
        "      x = self.conv1(x)\n",
        "      x = self.conv2(x)\n",
        "      x = self.classifier(x)\n",
        "      return x"
      ]
    },
    {
      "cell_type": "code",
      "execution_count": 132,
      "id": "340d6714",
      "metadata": {
        "colab": {
          "base_uri": "https://localhost:8080/"
        },
        "id": "340d6714",
        "outputId": "46afb16b-2d4f-49aa-95c3-6e83007a6082"
      },
      "outputs": [
        {
          "output_type": "stream",
          "name": "stdout",
          "text": [
            "CNNModel(\n",
            "  (conv1): Sequential(\n",
            "    (0): Conv2d(1, 32, kernel_size=(3, 3), stride=(1, 1), padding=(1, 1))\n",
            "    (1): ReLU()\n",
            "    (2): MaxPool2d(kernel_size=2, stride=2, padding=0, dilation=1, ceil_mode=False)\n",
            "    (3): BatchNorm2d(32, eps=1e-05, momentum=0.1, affine=True, track_running_stats=True)\n",
            "  )\n",
            "  (conv2): Sequential(\n",
            "    (0): Conv2d(32, 64, kernel_size=(3, 3), stride=(1, 1), padding=(1, 1))\n",
            "    (1): ReLU()\n",
            "    (2): MaxPool2d(kernel_size=2, stride=2, padding=0, dilation=1, ceil_mode=False)\n",
            "    (3): BatchNorm2d(64, eps=1e-05, momentum=0.1, affine=True, track_running_stats=True)\n",
            "  )\n",
            "  (classifier): Sequential(\n",
            "    (0): Flatten(start_dim=1, end_dim=-1)\n",
            "    (1): Linear(in_features=3136, out_features=128, bias=True)\n",
            "    (2): ReLU()\n",
            "    (3): Dropout(p=0.3, inplace=False)\n",
            "    (4): Linear(in_features=128, out_features=10, bias=True)\n",
            "  )\n",
            ")\n"
          ]
        }
      ],
      "source": [
        "model = CNNModel().to(device)\n",
        "print(model)"
      ]
    },
    {
      "cell_type": "code",
      "execution_count": 133,
      "id": "194a1fc4",
      "metadata": {
        "id": "194a1fc4"
      },
      "outputs": [],
      "source": [
        "criterion = nn.CrossEntropyLoss()\n",
        "optimizer = torch.optim.Adam(model.parameters(), lr=0.001)"
      ]
    },
    {
      "cell_type": "code",
      "execution_count": 134,
      "id": "20546d6b",
      "metadata": {
        "colab": {
          "base_uri": "https://localhost:8080/"
        },
        "id": "20546d6b",
        "outputId": "2d5b8d2a-42b6-4c35-b178-d2b599d16aa9"
      },
      "outputs": [
        {
          "output_type": "stream",
          "name": "stdout",
          "text": [
            "Epoch [1/10] | Train Loss: 0.3648 | Train Acc: 86.85% | Val Acc: 89.93%\n",
            "Epoch [2/10] | Train Loss: 0.2418 | Train Acc: 91.15% | Val Acc: 90.85%\n",
            "Epoch [3/10] | Train Loss: 0.2006 | Train Acc: 92.66% | Val Acc: 92.08%\n",
            "Epoch [4/10] | Train Loss: 0.1698 | Train Acc: 93.72% | Val Acc: 91.88%\n",
            "Epoch [5/10] | Train Loss: 0.1485 | Train Acc: 94.41% | Val Acc: 91.19%\n",
            "Epoch [6/10] | Train Loss: 0.1257 | Train Acc: 95.18% | Val Acc: 92.12%\n",
            "Epoch [7/10] | Train Loss: 0.1104 | Train Acc: 95.82% | Val Acc: 92.13%\n",
            "Epoch [8/10] | Train Loss: 0.1004 | Train Acc: 96.29% | Val Acc: 91.20%\n",
            "Epoch [9/10] | Train Loss: 0.0876 | Train Acc: 96.67% | Val Acc: 91.85%\n",
            "Epoch [10/10] | Train Loss: 0.0774 | Train Acc: 97.07% | Val Acc: 92.38%\n"
          ]
        }
      ],
      "source": [
        "num_epochs = 10\n",
        "\n",
        "patience = 3\n",
        "best_val_acc = 0.0\n",
        "epochs_since_improvement = 0\n",
        "\n",
        "for epoch in range(num_epochs):\n",
        "    # Train\n",
        "    model.train()\n",
        "    running_loss = 0\n",
        "    correct = 0\n",
        "    total = 0\n",
        "\n",
        "    for batch_idx, (images, labels) in enumerate(train_loader):\n",
        "        images = images.to(device)\n",
        "        labels = labels.to(device)\n",
        "\n",
        "        outputs = model(images)\n",
        "        loss = criterion(outputs, labels)\n",
        "\n",
        "        optimizer.zero_grad()\n",
        "        loss.backward()\n",
        "        optimizer.step()\n",
        "\n",
        "        running_loss += loss.item()\n",
        "        _, predicted = torch.max(outputs, 1)\n",
        "        total += labels.size(0)\n",
        "        correct += (predicted == labels).sum().item()\n",
        "\n",
        "    train_loss = running_loss / len(train_loader)\n",
        "    train_acc = 100 * correct / total\n",
        "\n",
        "    # Validation\n",
        "    model.eval()\n",
        "    val_correct = 0\n",
        "    val_total = 0\n",
        "\n",
        "    with torch.no_grad():\n",
        "        for images, labels in val_loader:\n",
        "            images, labels = images.to(device), labels.to(device)\n",
        "            outputs = model(images)\n",
        "            _, predicted = torch.max(outputs, 1)\n",
        "            val_total += labels.size(0)\n",
        "            val_correct += (predicted == labels).sum().item()\n",
        "\n",
        "    val_acc = 100 * val_correct / val_total\n",
        "\n",
        "    # Log\n",
        "    print(f\"Epoch [{epoch+1}/{num_epochs}] | Train Loss: {train_loss:.4f} | Train Acc: {train_acc:.2f}% | Val Acc: {val_acc:.2f}%\")\n",
        "\n",
        "    # Early Stopping\n",
        "    if val_acc > best_val_acc:\n",
        "        best_val_acc = val_acc\n",
        "        epochs_since_improvement = 0\n",
        "    else:\n",
        "        epochs_since_improvement += 1\n",
        "\n",
        "    if epochs_since_improvement >= patience:\n",
        "        print(f\"Early stopping at epoch {epoch+1} (no improvement for {patience} epochs).\")\n",
        "        break"
      ]
    },
    {
      "cell_type": "code",
      "source": [
        "model.eval()\n",
        "running_loss = 0\n",
        "correct = 0\n",
        "total = 0\n",
        "\n",
        "with torch.no_grad():\n",
        "    for images, labels in test_loader:\n",
        "        images = images.to(device)\n",
        "        labels = labels.to(device)\n",
        "\n",
        "        outputs = model(images)\n",
        "        loss = criterion(outputs, labels)\n",
        "\n",
        "        running_loss += loss.item()\n",
        "        _, predicted = torch.max(outputs, 1)\n",
        "        total += labels.size(0)\n",
        "        correct += (predicted == labels).sum().item()\n",
        "\n",
        "epoch_loss = running_loss / len(test_loader)\n",
        "epoch_acc = 100 * correct / total\n",
        "print(f\"Test Loss: {epoch_loss:.4f} | Test Accuracy: {epoch_acc:.2f}%\")"
      ],
      "metadata": {
        "colab": {
          "base_uri": "https://localhost:8080/"
        },
        "id": "Av6Aq2CjwdK3",
        "outputId": "fe17843d-6be9-43ca-c3d2-32f07dcc4920"
      },
      "id": "Av6Aq2CjwdK3",
      "execution_count": 135,
      "outputs": [
        {
          "output_type": "stream",
          "name": "stdout",
          "text": [
            "Test Loss: 0.2982 | Test Accuracy: 92.12%\n"
          ]
        }
      ]
    },
    {
      "cell_type": "markdown",
      "source": [
        "#### Confusion Matrix"
      ],
      "metadata": {
        "id": "XYXFUiUyhXvM"
      },
      "id": "XYXFUiUyhXvM"
    },
    {
      "cell_type": "code",
      "source": [
        "all_preds = []\n",
        "all_labels = []\n",
        "\n",
        "model.eval()\n",
        "with torch.no_grad():\n",
        "    for images, labels in test_loader:\n",
        "        images, labels = images.to(device), labels.to(device)\n",
        "        outputs = model(images)\n",
        "        _, predicted = torch.max(outputs, 1)\n",
        "        all_preds.extend(predicted.cpu().numpy())\n",
        "        all_labels.extend(labels.cpu().numpy())\n",
        "\n",
        "\n",
        "cm = confusion_matrix(all_labels, all_preds)\n",
        "plt.figure(figsize=(10, 8))\n",
        "sns.heatmap(cm, annot=True, fmt=\"d\", cmap=\"Blues\")\n",
        "plt.xlabel(\"Predicted Label\")\n",
        "plt.ylabel(\"Actual Label\")\n",
        "plt.title(\"Confusion Matrix\")\n",
        "plt.show()"
      ],
      "metadata": {
        "colab": {
          "base_uri": "https://localhost:8080/",
          "height": 718
        },
        "id": "Lx0UmL_lgi7W",
        "outputId": "a1cf6b21-ea53-4524-faec-bdb453fe11bf"
      },
      "id": "Lx0UmL_lgi7W",
      "execution_count": 136,
      "outputs": [
        {
          "output_type": "display_data",
          "data": {
            "text/plain": [
              "<Figure size 1000x800 with 2 Axes>"
            ],
            "image/png": "[encoded data removed]"
          },
          "metadata": {}
        }
      ]
    },
    {
      "cell_type": "markdown",
      "source": [
        "### Multi Class Classification - Aggregation Method"
      ],
      "metadata": {
        "id": "lIq6oZaHl2S3"
      },
      "id": "lIq6oZaHl2S3"
    },
    {
      "cell_type": "markdown",
      "source": [
        "- Micro :\n",
        "  - Counts total true positives, false positives, and false negatives across all classes.\n",
        "  - Computes precision and recall from those totals.\n",
        "  - Gives equal weight to each instance.\n",
        "\n",
        "- Macro :\n",
        "  - Computes precision and recall for each class independently, then takes the average.\n",
        "  - Gives equal weight to each class, regardless of how many samples it has.\n",
        "\n",
        "- Weighted\n",
        "  - Computes per class precision and recall.\n",
        "  - Takes the average weighted by the number of instances in each class.\n",
        "\n"
      ],
      "metadata": {
        "id": "CgTFpwYrl-8K"
      },
      "id": "CgTFpwYrl-8K"
    },
    {
      "cell_type": "code",
      "source": [
        "from collections import Counter\n",
        "y_train = train_dataset.targets\n",
        "y_train_list = y_train.tolist()\n",
        "class_counts = Counter(y_train_list)\n",
        "print(class_counts)"
      ],
      "metadata": {
        "colab": {
          "base_uri": "https://localhost:8080/"
        },
        "id": "vD2BvDqCoGay",
        "outputId": "9c45d9bc-aa82-40be-c5bc-e25875b6f841"
      },
      "id": "vD2BvDqCoGay",
      "execution_count": 137,
      "outputs": [
        {
          "output_type": "stream",
          "name": "stdout",
          "text": [
            "Counter({9: 6000, 0: 6000, 3: 6000, 2: 6000, 7: 6000, 5: 6000, 1: 6000, 6: 6000, 4: 6000, 8: 6000})\n"
          ]
        }
      ]
    },
    {
      "cell_type": "markdown",
      "source": [
        "Since the  dataset is balanced, I will choose Macro since Macro treats all classes equally. I would wanat to evaluate class-wise fairness which can gives me a better sense of whether the CNN model is consistently good across all types of clothing items.\n"
      ],
      "metadata": {
        "id": "wP3d0jEVtolB"
      },
      "id": "wP3d0jEVtolB"
    },
    {
      "cell_type": "code",
      "source": [
        "precision_macro = precision_score(all_labels, all_preds, average='macro')\n",
        "recall_macro = recall_score(all_labels, all_preds, average='macro')\n",
        "\n",
        "print(f\"Macro Precision: {precision_macro:.4f}\")\n",
        "print(f\"Macro Recall: {recall_macro:.4f}\")"
      ],
      "metadata": {
        "colab": {
          "base_uri": "https://localhost:8080/"
        },
        "id": "wsWkrU7ppv4U",
        "outputId": "124eb945-c2ba-488c-c8ed-329165dca55a"
      },
      "id": "wsWkrU7ppv4U",
      "execution_count": 138,
      "outputs": [
        {
          "output_type": "stream",
          "name": "stdout",
          "text": [
            "Macro Precision: 0.9212\n",
            "Macro Recall: 0.9212\n"
          ]
        }
      ]
    },
    {
      "cell_type": "markdown",
      "source": [
        "### Model with Two Branches"
      ],
      "metadata": {
        "id": "mg_B_xR7uSFs"
      },
      "id": "mg_B_xR7uSFs"
    },
    {
      "cell_type": "code",
      "source": [
        "device = \"cuda\" if torch.cuda.is_available() else \"cpu\""
      ],
      "metadata": {
        "id": "mr8fxjiCdiNC"
      },
      "id": "mr8fxjiCdiNC",
      "execution_count": 139,
      "outputs": []
    },
    {
      "cell_type": "code",
      "source": [
        "class TwoBranchCNN(nn.Module):\n",
        "    def __init__(self, in_channels=1, num_classes=10):\n",
        "        super(TwoBranchCNN, self).__init__()\n",
        "\n",
        "         # Branch 1: Three 3×3 convolutions\n",
        "        self.branch1 = nn.Sequential(\n",
        "            nn.Conv2d(in_channels, 32, kernel_size=3, padding=1),\n",
        "            nn.ReLU(),\n",
        "            nn.Conv2d(32, 64, kernel_size=3, padding=1),\n",
        "            nn.ReLU(),\n",
        "            nn.Conv2d(64, 128, kernel_size=3, padding=1),\n",
        "            nn.ReLU(),\n",
        "            nn.MaxPool2d(2, 2)\n",
        "        )\n",
        "\n",
        "        # Branch 2: Capture wider kernels initially to capture broader context, followed by 3×3\n",
        "        self.branch2 = nn.Sequential(\n",
        "            nn.Conv2d(in_channels, 32, kernel_size=5, padding=2),\n",
        "            nn.ReLU(),\n",
        "            nn.BatchNorm2d(32),\n",
        "            nn.Conv2d(32, 64, kernel_size=3, padding=1),\n",
        "            nn.ReLU(),\n",
        "            nn.BatchNorm2d(64),\n",
        "            nn.Conv2d(64, 64, kernel_size=3, padding=1),\n",
        "            nn.ReLU(),\n",
        "            nn.BatchNorm2d(64),\n",
        "            nn.MaxPool2d(2, 2),\n",
        "            nn.Conv2d(64, 64, kernel_size=3, padding=1),\n",
        "            nn.ReLU(),\n",
        "            nn.BatchNorm2d(64),\n",
        "            nn.MaxPool2d(2, 2)\n",
        "        )\n",
        "\n",
        "        # Global average pooling to ensure same output size before concatenation\n",
        "        self.global_pool = nn.AdaptiveAvgPool2d((7, 7))\n",
        "\n",
        "        self.classifier = nn.Sequential(\n",
        "            nn.Linear((128 + 64) * 7 * 7, 128),\n",
        "            nn.ReLU(),\n",
        "            nn.Dropout(0.3),\n",
        "            nn.Linear(128, num_classes)\n",
        "        )\n",
        "\n",
        "    def forward(self, x):\n",
        "        b1 = self.branch1(x)\n",
        "        b2 = self.branch2(x)\n",
        "        b1 = self.global_pool(b1)\n",
        "        b2 = self.global_pool(b2)\n",
        "        x = torch.cat([b1, b2], dim=1)\n",
        "        x = x.view(x.size(0), -1)\n",
        "        return self.classifier(x)"
      ],
      "metadata": {
        "id": "qL0b26zIuxQM"
      },
      "id": "qL0b26zIuxQM",
      "execution_count": 140,
      "outputs": []
    },
    {
      "cell_type": "code",
      "source": [
        "model2 = TwoBranchCNN(in_channels=1, num_classes=10)\n",
        "print(model2)\n",
        "model2.to(device)\n",
        "criterion = nn.CrossEntropyLoss()\n",
        "optimizer = torch.optim.Adam(model2.parameters(), lr=0.001)"
      ],
      "metadata": {
        "colab": {
          "base_uri": "https://localhost:8080/"
        },
        "id": "jr-VEAkMvxbi",
        "outputId": "f2c8fb0f-bc8c-4999-fad5-b485ef81496b"
      },
      "id": "jr-VEAkMvxbi",
      "execution_count": 141,
      "outputs": [
        {
          "output_type": "stream",
          "name": "stdout",
          "text": [
            "TwoBranchCNN(\n",
            "  (branch1): Sequential(\n",
            "    (0): Conv2d(1, 32, kernel_size=(3, 3), stride=(1, 1), padding=(1, 1))\n",
            "    (1): ReLU()\n",
            "    (2): Conv2d(32, 64, kernel_size=(3, 3), stride=(1, 1), padding=(1, 1))\n",
            "    (3): ReLU()\n",
            "    (4): Conv2d(64, 128, kernel_size=(3, 3), stride=(1, 1), padding=(1, 1))\n",
            "    (5): ReLU()\n",
            "    (6): MaxPool2d(kernel_size=2, stride=2, padding=0, dilation=1, ceil_mode=False)\n",
            "  )\n",
            "  (branch2): Sequential(\n",
            "    (0): Conv2d(1, 32, kernel_size=(5, 5), stride=(1, 1), padding=(2, 2))\n",
            "    (1): ReLU()\n",
            "    (2): BatchNorm2d(32, eps=1e-05, momentum=0.1, affine=True, track_running_stats=True)\n",
            "    (3): Conv2d(32, 64, kernel_size=(3, 3), stride=(1, 1), padding=(1, 1))\n",
            "    (4): ReLU()\n",
            "    (5): BatchNorm2d(64, eps=1e-05, momentum=0.1, affine=True, track_running_stats=True)\n",
            "    (6): Conv2d(64, 64, kernel_size=(3, 3), stride=(1, 1), padding=(1, 1))\n",
            "    (7): ReLU()\n",
            "    (8): BatchNorm2d(64, eps=1e-05, momentum=0.1, affine=True, track_running_stats=True)\n",
            "    (9): MaxPool2d(kernel_size=2, stride=2, padding=0, dilation=1, ceil_mode=False)\n",
            "    (10): Conv2d(64, 64, kernel_size=(3, 3), stride=(1, 1), padding=(1, 1))\n",
            "    (11): ReLU()\n",
            "    (12): BatchNorm2d(64, eps=1e-05, momentum=0.1, affine=True, track_running_stats=True)\n",
            "    (13): MaxPool2d(kernel_size=2, stride=2, padding=0, dilation=1, ceil_mode=False)\n",
            "  )\n",
            "  (global_pool): AdaptiveAvgPool2d(output_size=(7, 7))\n",
            "  (classifier): Sequential(\n",
            "    (0): Linear(in_features=9408, out_features=128, bias=True)\n",
            "    (1): ReLU()\n",
            "    (2): Dropout(p=0.3, inplace=False)\n",
            "    (3): Linear(in_features=128, out_features=10, bias=True)\n",
            "  )\n",
            ")\n"
          ]
        }
      ]
    },
    {
      "cell_type": "code",
      "source": [
        "num_epochs = 10\n",
        "\n",
        "patience = 3\n",
        "\n",
        "best_val_acc = 0.0\n",
        "epochs_since_improvement = 0\n",
        "\n",
        "for epoch in range(num_epochs):\n",
        "    # Train\n",
        "    model2.train()\n",
        "    running_loss = 0\n",
        "    correct = 0\n",
        "    total = 0\n",
        "\n",
        "    for batch_idx, (images, labels) in enumerate(train_loader):\n",
        "        images = images.to(device)\n",
        "        labels = labels.to(device)\n",
        "\n",
        "        outputs = model2(images)\n",
        "        loss = criterion(outputs, labels)\n",
        "\n",
        "        optimizer.zero_grad()\n",
        "        loss.backward()\n",
        "        optimizer.step()\n",
        "\n",
        "        running_loss += loss.item()\n",
        "        _, predicted = torch.max(outputs, 1)\n",
        "        total += labels.size(0)\n",
        "        correct += (predicted == labels).sum().item()\n",
        "\n",
        "    train_loss = running_loss / len(train_loader)\n",
        "    train_acc = 100 * correct / total\n",
        "\n",
        "    # Validation\n",
        "    model2.eval()\n",
        "    val_correct = 0\n",
        "    val_total = 0\n",
        "\n",
        "    with torch.no_grad():\n",
        "        for images, labels in val_loader:\n",
        "            images, labels = images.to(device), labels.to(device)\n",
        "            outputs = model2(images)\n",
        "            _, predicted = torch.max(outputs, 1)\n",
        "            val_total += labels.size(0)\n",
        "            val_correct += (predicted == labels).sum().item()\n",
        "\n",
        "    val_acc = 100 * val_correct / val_total\n",
        "\n",
        "    # Log\n",
        "    print(f\"Epoch [{epoch+1}/{num_epochs}] | Train Loss: {train_loss:.4f} | Train Acc: {train_acc:.2f}% | Val Acc: {val_acc:.2f}%\")\n",
        "\n",
        "    # Early Stopping\n",
        "    if val_acc > best_val_acc:\n",
        "        best_val_acc = val_acc\n",
        "        epochs_since_improvement = 0\n",
        "    else:\n",
        "        epochs_since_improvement += 1\n",
        "\n",
        "    if epochs_since_improvement >= patience:\n",
        "        print(f\"Early stopping at epoch {epoch+1} (no improvement for {patience} epochs).\")\n",
        "        break"
      ],
      "metadata": {
        "colab": {
          "base_uri": "https://localhost:8080/"
        },
        "id": "1yvs58NhwV8L",
        "outputId": "5618f953-c68b-4f20-ba09-f49b0a3f81b6"
      },
      "id": "1yvs58NhwV8L",
      "execution_count": 142,
      "outputs": [
        {
          "output_type": "stream",
          "name": "stdout",
          "text": [
            "Epoch [1/10] | Train Loss: 0.3674 | Train Acc: 86.82% | Val Acc: 90.33%\n",
            "Epoch [2/10] | Train Loss: 0.2494 | Train Acc: 90.88% | Val Acc: 92.29%\n",
            "Epoch [3/10] | Train Loss: 0.2087 | Train Acc: 92.34% | Val Acc: 92.05%\n",
            "Epoch [4/10] | Train Loss: 0.1849 | Train Acc: 93.23% | Val Acc: 92.42%\n",
            "Epoch [5/10] | Train Loss: 0.1612 | Train Acc: 94.15% | Val Acc: 92.86%\n",
            "Epoch [6/10] | Train Loss: 0.1408 | Train Acc: 94.76% | Val Acc: 92.72%\n",
            "Epoch [7/10] | Train Loss: 0.1250 | Train Acc: 95.28% | Val Acc: 92.72%\n",
            "Epoch [8/10] | Train Loss: 0.1118 | Train Acc: 95.82% | Val Acc: 93.28%\n",
            "Epoch [9/10] | Train Loss: 0.0989 | Train Acc: 96.24% | Val Acc: 93.19%\n",
            "Epoch [10/10] | Train Loss: 0.0858 | Train Acc: 96.70% | Val Acc: 93.16%\n"
          ]
        }
      ]
    },
    {
      "cell_type": "code",
      "source": [
        "model2.eval()\n",
        "running_loss = 0\n",
        "correct = 0\n",
        "total = 0\n",
        "\n",
        "with torch.no_grad():\n",
        "    for images, labels in test_loader:\n",
        "        images = images.to(device)\n",
        "        labels = labels.to(device)\n",
        "\n",
        "        outputs = model2(images)\n",
        "        loss = criterion(outputs, labels)\n",
        "\n",
        "        running_loss += loss.item()\n",
        "        _, predicted = torch.max(outputs, 1)\n",
        "        total += labels.size(0)\n",
        "        correct += (predicted == labels).sum().item()\n",
        "\n",
        "epoch_loss = running_loss / len(test_loader)\n",
        "epoch_acc = 100 * correct / total\n",
        "print(f\"Test Loss: {epoch_loss:.4f} | Test Accuracy: {epoch_acc:.2f}%\")"
      ],
      "metadata": {
        "colab": {
          "base_uri": "https://localhost:8080/"
        },
        "id": "KG4trBFVfqQQ",
        "outputId": "6cb834c2-47a5-4048-ec49-0610224f99db"
      },
      "id": "KG4trBFVfqQQ",
      "execution_count": 143,
      "outputs": [
        {
          "output_type": "stream",
          "name": "stdout",
          "text": [
            "Test Loss: 0.2914 | Test Accuracy: 92.62%\n"
          ]
        }
      ]
    },
    {
      "cell_type": "code",
      "source": [
        "all_preds = []\n",
        "all_labels = []\n",
        "\n",
        "model2.eval()\n",
        "with torch.no_grad():\n",
        "    for images, labels in test_loader:\n",
        "        images, labels = images.to(device), labels.to(device)\n",
        "        outputs = model2(images)\n",
        "        _, predicted = torch.max(outputs, 1)\n",
        "        all_preds.extend(predicted.cpu().numpy())\n",
        "        all_labels.extend(labels.cpu().numpy())\n",
        "\n",
        "\n",
        "cm = confusion_matrix(all_labels, all_preds)\n",
        "plt.figure(figsize=(10, 8))\n",
        "sns.heatmap(cm, annot=True, fmt=\"d\", cmap=\"Blues\")\n",
        "plt.xlabel(\"Predicted Label\")\n",
        "plt.ylabel(\"Actual Label\")\n",
        "plt.title(\"Confusion Matrix\")\n",
        "plt.show()"
      ],
      "metadata": {
        "colab": {
          "base_uri": "https://localhost:8080/",
          "height": 718
        },
        "id": "KfXbJ4d8iVG-",
        "outputId": "e71abb5a-ea79-4720-8a87-6ee6c85b6c56"
      },
      "id": "KfXbJ4d8iVG-",
      "execution_count": 144,
      "outputs": [
        {
          "output_type": "display_data",
          "data": {
            "text/plain": [
              "<Figure size 1000x800 with 2 Axes>"
            ],
            "image/png": "[encoded data removed]"
          },
          "metadata": {}
        }
      ]
    },
    {
      "cell_type": "code",
      "source": [
        "precision_macro = precision_score(all_labels, all_preds, average='macro')\n",
        "recall_macro = recall_score(all_labels, all_preds, average='macro')\n",
        "\n",
        "print(f\"Macro Precision: {precision_macro:.4f}\")\n",
        "print(f\"Macro Recall: {recall_macro:.4f}\")"
      ],
      "metadata": {
        "colab": {
          "base_uri": "https://localhost:8080/"
        },
        "id": "AI84GBpDjRd7",
        "outputId": "b67f060e-411c-4502-dca8-a663b677d2d7"
      },
      "id": "AI84GBpDjRd7",
      "execution_count": 145,
      "outputs": [
        {
          "output_type": "stream",
          "name": "stdout",
          "text": [
            "Macro Precision: 0.9276\n",
            "Macro Recall: 0.9262\n"
          ]
        }
      ]
    }
  ],
  "metadata": {
    "kernelspec": {
      "display_name": "Python 3",
      "name": "python3"
    },
    "language_info": {
      "codemirror_mode": {
        "name": "ipython",
        "version": 3
      },
      "file_extension": ".py",
      "mimetype": "text/x-python",
      "name": "python",
      "nbconvert_exporter": "python",
      "pygments_lexer": "ipython3",
      "version": "3.13.1"
    },
    "colab": {
      "provenance": [],
      "gpuType": "T4"
    },
    "accelerator": "GPU"
  },
  "nbformat": 4,
  "nbformat_minor": 5
}